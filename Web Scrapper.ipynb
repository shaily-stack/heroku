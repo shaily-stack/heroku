{
 "metadata": {
  "language_info": {
   "codemirror_mode": {
    "name": "ipython",
    "version": 3
   },
   "file_extension": ".py",
   "mimetype": "text/x-python",
   "name": "python",
   "nbconvert_exporter": "python",
   "pygments_lexer": "ipython3",
   "version": "3.8.8"
  },
  "orig_nbformat": 2,
  "kernelspec": {
   "name": "python388jvsc74a57bd0b3ba2566441a7c06988d0923437866b63cedc61552a5af99d1f4fb67d367b25f",
   "display_name": "Python 3.8.8 64-bit ('base': conda)"
  }
 },
 "nbformat": 4,
 "nbformat_minor": 2,
 "cells": [
  {
   "cell_type": "code",
   "execution_count": 1,
   "metadata": {},
   "outputs": [],
   "source": [
    "#import libraries\n",
    "\n",
    "from bs4 import BeautifulSoup\n",
    "import numpy as np\n",
    "import requests\n",
    "import re\n",
    "import pandas as pd\n",
    "\n",
    "\n",
    "#Loop over all pages\n",
    "\n",
    "data = pd.DataFrame([])\n",
    "for year in range(2013,2016):\n",
    "    for month in range(1, 13):\n",
    "        if (month<10):\n",
    "            url = 'https://en.tutiempo.net/climate/0{}-{}/ws-421820.html'.format(month, year)\n",
    "                        \n",
    "        else:\n",
    "            url = 'https://en.tutiempo.net/climate/{}-{}/ws-421820.html'.format(month, year)\n",
    "\n",
    "        retreived_data = requests.get(url).text\n",
    "\n",
    "        soup = BeautifulSoup(retreived_data, \"lxml\")\n",
    "\n",
    "        hiddenData = str(soup.find_all('style')[1])\n",
    "        hiddenSpan = {}\n",
    "        for group in re.findall(r'span\\.(.+?)}',hiddenData):\n",
    "            class_attr = group.split('span.')[-1].split('::')[0]\n",
    "            content = group.split('\"')[1]\n",
    "            hiddenSpan[class_attr] = content\n",
    "\n",
    "        climate_table = str(soup.find(\"table\", attrs={\"class\": \"medias mensuales numspan\"}))   \n",
    "        for k, v in hiddenSpan.items():\n",
    "            climate_table = climate_table.replace('<span class=\"%s\"></span>' %(k), hiddenSpan[k])\n",
    "\n",
    "\n",
    "        df = pd.read_html(climate_table)[0]\n",
    "        df['Year'] = year\n",
    "        df['Month'] = month\n",
    "\n",
    "        data = data.append(df, ignore_index = True)\n",
    "            "
   ]
  },
  {
   "cell_type": "code",
   "execution_count": 2,
   "metadata": {},
   "outputs": [],
   "source": [
    "data.to_csv('AQI_Data_combine.csv')"
   ]
  },
  {
   "cell_type": "code",
   "execution_count": null,
   "metadata": {},
   "outputs": [],
   "source": []
  }
 ]
}